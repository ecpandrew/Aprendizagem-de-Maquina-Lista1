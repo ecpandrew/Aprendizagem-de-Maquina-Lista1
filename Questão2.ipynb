{
 "cells": [
  {
   "cell_type": "code",
   "execution_count": 1,
   "id": "e4cb1a85-3b7b-4086-bc6a-ac8a00e313aa",
   "metadata": {},
   "outputs": [],
   "source": [
    "from sklearn.neural_network import MLPClassifier\n",
    "from scipy.io import arff\n",
    "import pandas as pd\n",
    "from sklearn.datasets import load_iris\n",
    "from sklearn import tree\n",
    "from sklearn import metrics \n",
    "from sklearn.tree import _tree\n",
    "import matplotlib.pyplot as plt\n",
    "import dataframe_image as dfi"
   ]
  },
  {
   "cell_type": "code",
   "execution_count": null,
   "id": "5a0484af-c66e-414c-9fa6-14f581b0531f",
   "metadata": {},
   "outputs": [],
   "source": [
    "from sklearn.preprocessing import LabelEncoder\n",
    "\n",
    "df = pd.read_csv(\"../datasets/chess.data\", sep=\",\")\n",
    "\n",
    "\n",
    "\n",
    "\n",
    "lbl_white_king=LabelEncoder()\n",
    "df['white_king_file']=lbl_white_king.fit_transform(df['white_king_file'])\n",
    "lbl_white_rook=LabelEncoder()\n",
    "df['white_rook_file']=lbl_white_rook.fit_transform(df['white_rook_file'])\n",
    "lbl_black_king=LabelEncoder()\n",
    "df['black_king_file']=lbl_black_king.fit_transform(df['black_king_file'])\n",
    "lbl_result=LabelEncoder()\n",
    "df['result']=lbl_result.fit_transform(df['result'])\n",
    "\n",
    "df\n",
    "\n",
    "#df.iloc[0::,0:6]\n",
    "\n",
    "\n",
    "train = df.sample(frac=0.8, random_state=100) #random state is a seed value\n",
    "test  = df.drop(train.index)\n",
    "\n",
    "train_x = train.iloc[0::,0:6].copy()\n",
    "train_y = train.iloc[0::,6:7].copy()\n",
    "\n",
    "\n",
    "test_x = test.iloc[0::,0:6].copy()\n",
    "test_y = test.iloc[0::,6:7].copy()\n"
   ]
  },
  {
   "cell_type": "code",
   "execution_count": null,
   "id": "4d941014-4ee0-42cd-92db-9496548343df",
   "metadata": {},
   "outputs": [],
   "source": []
  },
  {
   "cell_type": "code",
   "execution_count": null,
   "id": "a9964587-d361-417e-a849-7c19b2ab5b81",
   "metadata": {},
   "outputs": [],
   "source": [
    "clf = MLPClassifier(hidden_layer_sizes=(64,32,16, 8), max_iter=100,)\n",
    "\n",
    "clf.fit(train_x, train_y.values.ravel())\n",
    "\n",
    "\n",
    "expected_y  = test_y\n",
    "predicted_y = clf.predict(test_x)\n",
    "\n",
    "print(metrics.classification_report(expected_y, predicted_y))\n"
   ]
  }
 ],
 "metadata": {
  "kernelspec": {
   "display_name": "Python 3 (ipykernel)",
   "language": "python",
   "name": "python3"
  },
  "language_info": {
   "codemirror_mode": {
    "name": "ipython",
    "version": 3
   },
   "file_extension": ".py",
   "mimetype": "text/x-python",
   "name": "python",
   "nbconvert_exporter": "python",
   "pygments_lexer": "ipython3",
   "version": "3.8.11"
  }
 },
 "nbformat": 4,
 "nbformat_minor": 5
}
