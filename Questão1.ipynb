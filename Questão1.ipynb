{
 "cells": [
  {
   "cell_type": "code",
   "execution_count": 2,
   "id": "042c18b8-f798-4a4a-a082-d6ad94c68700",
   "metadata": {},
   "outputs": [],
   "source": [
    "from scipy.io import arff\n",
    "import pandas as pd\n",
    "from sklearn.datasets import load_iris\n",
    "from sklearn import tree\n",
    "from sklearn import metrics \n",
    "from sklearn.tree import _tree\n",
    "import matplotlib.pyplot as plt\n",
    "import dataframe_image as dfi"
   ]
  },
  {
   "cell_type": "markdown",
   "id": "d2320a8b-24b3-48b6-8c02-91ab2336a924",
   "metadata": {
    "tags": []
   },
   "source": [
    "## Importando o Dataset"
   ]
  },
  {
   "cell_type": "code",
   "execution_count": 3,
   "id": "f1cc2221-7218-41ab-b314-a6a6d5bcce7a",
   "metadata": {},
   "outputs": [
    {
     "data": {
      "text/html": [
       "<div>\n",
       "<style scoped>\n",
       "    .dataframe tbody tr th:only-of-type {\n",
       "        vertical-align: middle;\n",
       "    }\n",
       "\n",
       "    .dataframe tbody tr th {\n",
       "        vertical-align: top;\n",
       "    }\n",
       "\n",
       "    .dataframe thead th {\n",
       "        text-align: right;\n",
       "    }\n",
       "</style>\n",
       "<table border=\"1\" class=\"dataframe\">\n",
       "  <thead>\n",
       "    <tr style=\"text-align: right;\">\n",
       "      <th></th>\n",
       "      <th>Area</th>\n",
       "      <th>Perimeter</th>\n",
       "      <th>MajorAxisLength</th>\n",
       "      <th>MinorAxisLength</th>\n",
       "      <th>AspectRation</th>\n",
       "      <th>Eccentricity</th>\n",
       "      <th>ConvexArea</th>\n",
       "      <th>EquivDiameter</th>\n",
       "      <th>Extent</th>\n",
       "      <th>Solidity</th>\n",
       "      <th>roundness</th>\n",
       "      <th>Compactness</th>\n",
       "      <th>ShapeFactor1</th>\n",
       "      <th>ShapeFactor2</th>\n",
       "      <th>ShapeFactor3</th>\n",
       "      <th>ShapeFactor4</th>\n",
       "      <th>Class</th>\n",
       "    </tr>\n",
       "  </thead>\n",
       "  <tbody>\n",
       "    <tr>\n",
       "      <th>0</th>\n",
       "      <td>28395.0</td>\n",
       "      <td>610.291</td>\n",
       "      <td>208.178117</td>\n",
       "      <td>173.888747</td>\n",
       "      <td>1.197191</td>\n",
       "      <td>0.549812</td>\n",
       "      <td>28715.0</td>\n",
       "      <td>190.141097</td>\n",
       "      <td>0.763923</td>\n",
       "      <td>0.988856</td>\n",
       "      <td>0.958027</td>\n",
       "      <td>0.913358</td>\n",
       "      <td>0.007332</td>\n",
       "      <td>0.003147</td>\n",
       "      <td>0.834222</td>\n",
       "      <td>0.998724</td>\n",
       "      <td>b'SEKER'</td>\n",
       "    </tr>\n",
       "    <tr>\n",
       "      <th>1</th>\n",
       "      <td>28734.0</td>\n",
       "      <td>638.018</td>\n",
       "      <td>200.524796</td>\n",
       "      <td>182.734419</td>\n",
       "      <td>1.097356</td>\n",
       "      <td>0.411785</td>\n",
       "      <td>29172.0</td>\n",
       "      <td>191.272750</td>\n",
       "      <td>0.783968</td>\n",
       "      <td>0.984986</td>\n",
       "      <td>0.887034</td>\n",
       "      <td>0.953861</td>\n",
       "      <td>0.006979</td>\n",
       "      <td>0.003564</td>\n",
       "      <td>0.909851</td>\n",
       "      <td>0.998430</td>\n",
       "      <td>b'SEKER'</td>\n",
       "    </tr>\n",
       "    <tr>\n",
       "      <th>2</th>\n",
       "      <td>29380.0</td>\n",
       "      <td>624.110</td>\n",
       "      <td>212.826130</td>\n",
       "      <td>175.931143</td>\n",
       "      <td>1.209713</td>\n",
       "      <td>0.562727</td>\n",
       "      <td>29690.0</td>\n",
       "      <td>193.410904</td>\n",
       "      <td>0.778113</td>\n",
       "      <td>0.989559</td>\n",
       "      <td>0.947849</td>\n",
       "      <td>0.908774</td>\n",
       "      <td>0.007244</td>\n",
       "      <td>0.003048</td>\n",
       "      <td>0.825871</td>\n",
       "      <td>0.999066</td>\n",
       "      <td>b'SEKER'</td>\n",
       "    </tr>\n",
       "    <tr>\n",
       "      <th>3</th>\n",
       "      <td>30008.0</td>\n",
       "      <td>645.884</td>\n",
       "      <td>210.557999</td>\n",
       "      <td>182.516516</td>\n",
       "      <td>1.153638</td>\n",
       "      <td>0.498616</td>\n",
       "      <td>30724.0</td>\n",
       "      <td>195.467062</td>\n",
       "      <td>0.782681</td>\n",
       "      <td>0.976696</td>\n",
       "      <td>0.903936</td>\n",
       "      <td>0.928329</td>\n",
       "      <td>0.007017</td>\n",
       "      <td>0.003215</td>\n",
       "      <td>0.861794</td>\n",
       "      <td>0.994199</td>\n",
       "      <td>b'SEKER'</td>\n",
       "    </tr>\n",
       "    <tr>\n",
       "      <th>4</th>\n",
       "      <td>30140.0</td>\n",
       "      <td>620.134</td>\n",
       "      <td>201.847882</td>\n",
       "      <td>190.279279</td>\n",
       "      <td>1.060798</td>\n",
       "      <td>0.333680</td>\n",
       "      <td>30417.0</td>\n",
       "      <td>195.896503</td>\n",
       "      <td>0.773098</td>\n",
       "      <td>0.990893</td>\n",
       "      <td>0.984877</td>\n",
       "      <td>0.970516</td>\n",
       "      <td>0.006697</td>\n",
       "      <td>0.003665</td>\n",
       "      <td>0.941900</td>\n",
       "      <td>0.999166</td>\n",
       "      <td>b'SEKER'</td>\n",
       "    </tr>\n",
       "  </tbody>\n",
       "</table>\n",
       "</div>"
      ],
      "text/plain": [
       "      Area  Perimeter  MajorAxisLength  MinorAxisLength  AspectRation  \\\n",
       "0  28395.0    610.291       208.178117       173.888747      1.197191   \n",
       "1  28734.0    638.018       200.524796       182.734419      1.097356   \n",
       "2  29380.0    624.110       212.826130       175.931143      1.209713   \n",
       "3  30008.0    645.884       210.557999       182.516516      1.153638   \n",
       "4  30140.0    620.134       201.847882       190.279279      1.060798   \n",
       "\n",
       "   Eccentricity  ConvexArea  EquivDiameter    Extent  Solidity  roundness  \\\n",
       "0      0.549812     28715.0     190.141097  0.763923  0.988856   0.958027   \n",
       "1      0.411785     29172.0     191.272750  0.783968  0.984986   0.887034   \n",
       "2      0.562727     29690.0     193.410904  0.778113  0.989559   0.947849   \n",
       "3      0.498616     30724.0     195.467062  0.782681  0.976696   0.903936   \n",
       "4      0.333680     30417.0     195.896503  0.773098  0.990893   0.984877   \n",
       "\n",
       "   Compactness  ShapeFactor1  ShapeFactor2  ShapeFactor3  ShapeFactor4  \\\n",
       "0     0.913358      0.007332      0.003147      0.834222      0.998724   \n",
       "1     0.953861      0.006979      0.003564      0.909851      0.998430   \n",
       "2     0.908774      0.007244      0.003048      0.825871      0.999066   \n",
       "3     0.928329      0.007017      0.003215      0.861794      0.994199   \n",
       "4     0.970516      0.006697      0.003665      0.941900      0.999166   \n",
       "\n",
       "      Class  \n",
       "0  b'SEKER'  \n",
       "1  b'SEKER'  \n",
       "2  b'SEKER'  \n",
       "3  b'SEKER'  \n",
       "4  b'SEKER'  "
      ]
     },
     "execution_count": 3,
     "metadata": {},
     "output_type": "execute_result"
    }
   ],
   "source": [
    "data = arff.loadarff('beans.arff')\n",
    "df = pd.DataFrame(data[0])\n",
    "df.head()"
   ]
  },
  {
   "cell_type": "markdown",
   "id": "7202bd75-23f8-4021-ab2e-ff52f85bb6ea",
   "metadata": {},
   "source": [
    "## Obtendo Estatísticas"
   ]
  },
  {
   "cell_type": "code",
   "execution_count": 4,
   "id": "eaa0d951-432e-460c-9e7c-533d00fc394c",
   "metadata": {},
   "outputs": [],
   "source": [
    "df_0_10 = df.iloc[0:: , 0:10].describe()\n",
    "dfi.export(df_0_10, \"questão1-estatisticas.png\")\n"
   ]
  },
  {
   "cell_type": "code",
   "execution_count": 5,
   "id": "1d7b2c2e-ab72-4244-a3bf-708569638aca",
   "metadata": {},
   "outputs": [],
   "source": [
    "df_11_16 = df.iloc[0:: , 10:17].describe()\n",
    "dfi.export(df_11_16, \"questão1-estatisticas2.png\")"
   ]
  },
  {
   "cell_type": "markdown",
   "id": "5e9bca88-30c7-4a5e-b129-dc35e8fdf0c8",
   "metadata": {},
   "source": [
    "## Verificando Valores Nulos"
   ]
  },
  {
   "cell_type": "code",
   "execution_count": 6,
   "id": "d2246bab-1ad1-48b6-a190-e7da42eb629e",
   "metadata": {},
   "outputs": [
    {
     "name": "stdout",
     "output_type": "stream",
     "text": [
      " \n",
      "Count total NaN at each column in a DataFrame : \n",
      "\n",
      " Area               0\n",
      "Perimeter          0\n",
      "MajorAxisLength    0\n",
      "MinorAxisLength    0\n",
      "AspectRation       0\n",
      "Eccentricity       0\n",
      "ConvexArea         0\n",
      "EquivDiameter      0\n",
      "Extent             0\n",
      "Solidity           0\n",
      "roundness          0\n",
      "Compactness        0\n",
      "ShapeFactor1       0\n",
      "ShapeFactor2       0\n",
      "ShapeFactor3       0\n",
      "ShapeFactor4       0\n",
      "Class              0\n",
      "dtype: int64\n"
     ]
    }
   ],
   "source": [
    "# Count total NaN at each column in a DataFrame\n",
    "print(\" \\nCount total NaN at each column in a DataFrame : \\n\\n\",\n",
    "      df.isnull().sum())"
   ]
  },
  {
   "cell_type": "code",
   "execution_count": 7,
   "id": "e2d98c2a-3b1e-4111-acb7-010195076d2a",
   "metadata": {},
   "outputs": [],
   "source": [
    "seeker   = df[df.Class.eq(b\"SEKER\")]\n",
    "barbunya = df[df.Class.eq(b\"BARBUNYA\")]\n",
    "bombay   = df[df.Class.eq(b\"BOMBAY\")]\n",
    "cali     = df[df.Class.eq(b\"CALI\")]\n",
    "horoz    = df[df.Class.eq(b\"HOROZ\")]\n",
    "sira     = df[df.Class.eq(b\"SIRA\")]\n",
    "dermason = df[df.Class.eq(b\"DERMASON\")]"
   ]
  },
  {
   "cell_type": "markdown",
   "id": "a5a1686e-7acf-4810-aeba-f92a659520e2",
   "metadata": {},
   "source": [
    "## Divisão Entre Base de Treinamento e Testes"
   ]
  },
  {
   "cell_type": "code",
   "execution_count": 8,
   "id": "d4ae8ab1-4c4a-479c-960b-be5b27f01686",
   "metadata": {},
   "outputs": [],
   "source": [
    "train = df.sample(frac=0.7, random_state=100) \n",
    "test  = df.drop(train.index)"
   ]
  },
  {
   "cell_type": "code",
   "execution_count": 9,
   "id": "d6c104aa-51a2-491e-8e5b-68c18924ed31",
   "metadata": {},
   "outputs": [
    {
     "data": {
      "text/plain": [
       "b'DERMASON'    2484\n",
       "b'SIRA'        1845\n",
       "b'SEKER'       1438\n",
       "b'HOROZ'       1373\n",
       "b'CALI'        1112\n",
       "b'BARBUNYA'     903\n",
       "b'BOMBAY'       373\n",
       "Name: Class, dtype: int64"
      ]
     },
     "execution_count": 9,
     "metadata": {},
     "output_type": "execute_result"
    }
   ],
   "source": [
    "train[\"Class\"].value_counts()"
   ]
  },
  {
   "cell_type": "code",
   "execution_count": 10,
   "id": "80465855-eb3a-40f8-ae68-d7707522ad73",
   "metadata": {},
   "outputs": [
    {
     "data": {
      "text/plain": [
       "b'DERMASON'    1062\n",
       "b'SIRA'         791\n",
       "b'SEKER'        589\n",
       "b'HOROZ'        555\n",
       "b'CALI'         518\n",
       "b'BARBUNYA'     419\n",
       "b'BOMBAY'       149\n",
       "Name: Class, dtype: int64"
      ]
     },
     "execution_count": 10,
     "metadata": {},
     "output_type": "execute_result"
    }
   ],
   "source": [
    "test[\"Class\"].value_counts()"
   ]
  },
  {
   "cell_type": "code",
   "execution_count": 11,
   "id": "9a400522-84df-498b-be39-60bde7aa08ac",
   "metadata": {},
   "outputs": [],
   "source": [
    "train_X = train.iloc[0:: , 0:16].copy()\n",
    "train_y = train.iloc[0:: , 16:17].copy()\n",
    "fixed_train_y = train_y[\"Class\"].str.decode('utf-8')\n",
    "\n",
    "\n",
    "\n",
    "\n",
    "test_X = test.iloc[0:: , 0:16].copy()\n",
    "test_y = test.iloc[0:: , 16:17].copy()\n",
    "fixed_test_y = test_y[\"Class\"].str.decode('utf-8')"
   ]
  },
  {
   "cell_type": "markdown",
   "id": "6edced80-d5cf-41fd-8814-ab6196ec318c",
   "metadata": {},
   "source": [
    "## Executando o Experimento Variando a Profundidade da Árvore"
   ]
  },
  {
   "cell_type": "code",
   "execution_count": 15,
   "id": "a335c846-1d2c-4ccb-bb8f-12999252a046",
   "metadata": {},
   "outputs": [
    {
     "name": "stdout",
     "output_type": "stream",
     "text": [
      "[4, 8, 16, 31, 56, 91, 141, 208, 288, 371, 432, 483, 519, 547, 564, 578, 586, 596, 602, 603, 609, 613, 621, 618, 625, 625, 622, 625, 618, 619, 622, 626, 619, 620, 630, 624, 623, 626, 619, 629, 625, 623, 625, 623, 625, 619, 628, 626]\n"
     ]
    }
   ],
   "source": [
    "accuracy_test = []\n",
    "accuracy_train = []\n",
    "\n",
    "depth = []\n",
    "leaves = []\n",
    "\n",
    "for i in range(2, 50, 1):\n",
    "\n",
    "    clf = tree.DecisionTreeClassifier( max_depth= i)\n",
    "    clf = clf.fit(train_X.values, fixed_train_y)\n",
    "\n",
    "\n",
    "    y_predicted_test = clf.predict(test_X.values)\n",
    "    y_predicted_train = clf.predict(train_X.values)\n",
    "    \n",
    "    \n",
    "    accuracy_test.append(metrics.accuracy_score(fixed_test_y, y_predicted_test))\n",
    "    \n",
    "    accuracy_train.append(metrics.accuracy_score(fixed_train_y, y_predicted_train))\n",
    "\n",
    "    depth.append(i)\n",
    "    leaves.append(clf.get_n_leaves())\n",
    "\n",
    "print(leaves)\n",
    "\n",
    "\n"
   ]
  },
  {
   "cell_type": "markdown",
   "id": "d7d966d0-ad92-4810-ba18-9c8881526465",
   "metadata": {},
   "source": [
    "## Plotando Gráficos: Erro x Profundidade e Acurácia x Profundidade"
   ]
  },
  {
   "cell_type": "code",
   "execution_count": 34,
   "id": "47c2c0cb-6207-436d-9299-38e3b359878e",
   "metadata": {},
   "outputs": [
    {
     "data": {
      "image/png": "[encoded data removed]",
      "text/plain": [
       "<Figure size 576x720 with 3 Axes>"
      ]
     },
     "metadata": {
      "needs_background": "light"
     },
     "output_type": "display_data"
    }
   ],
   "source": [
    "fig, axes = plt.subplots(nrows=3, ncols=1, figsize=(8, 10))\n",
    "\n",
    "axes[0].plot(depth, [1 - x for x in accuracy_test ], color='red', label=\"test\")\n",
    "axes[0].plot(depth, [1 - x for x in accuracy_train ], color='blue', label=\"train\")\n",
    "\n",
    "axes[1].plot(depth, accuracy_test, color='red', label=\"test\")\n",
    "axes[1].plot(depth, accuracy_train, color='blue', label=\"train\")\n",
    "\n",
    "axes[2].plot(depth, leaves, color='green', label=\"test\")\n",
    "axes[2].set_ylabel('Número de Nós Folha')\n",
    "axes[2].set_xlabel('Profundidade da Árvore')\n",
    "\n",
    "\n",
    "axes[0].legend()\n",
    "axes[1].legend()\n",
    "\n",
    "axes[0].title.set_text('Erro x Profundidade da Árvore')\n",
    "axes[1].title.set_text('Acuracia x Profundidade da Árvore')\n",
    "axes[2].title.set_text('Nº Nós Folha x Profundidade da Árvore')\n",
    "\n",
    "axes[0].set_ylabel('Erro')\n",
    "axes[0].set_xlabel('Profundidade da Árvore')\n",
    "\n",
    "axes[1].set_ylabel('Acurácia')\n",
    "axes[1].set_xlabel('Profundidade da Árvore')\n",
    "\n",
    "fig.tight_layout(pad=3)\n",
    "\n",
    "fig.savefig('questão1-result.png')\n"
   ]
  },
  {
   "cell_type": "code",
   "execution_count": 37,
   "id": "beb0f53e-93b5-46ea-a854-9e3a633cb54b",
   "metadata": {},
   "outputs": [
    {
     "name": "stdout",
     "output_type": "stream",
     "text": [
      "[0.6632031905961377, 0.7812762384550798, 0.8322837951301427, 0.8917926112510496, 0.915407220822838, 0.9251679261125105, 0.9404911838790933, 0.9522460117548279, 0.9655751469353484, 0.9763853904282116, 0.9820528967254408, 0.9878253568429891, 0.9913937867338372, 0.9935978169605374, 0.9956968933669186, 0.996536523929471, 0.9979009235936188, 0.998215785054576, 0.9984256926952141, 0.9985306465155331, 0.9987405541561712, 0.9991603694374476, 0.9996851385390428, 0.999895046179681, 1.0, 1.0, 1.0, 1.0, 1.0, 1.0, 1.0, 1.0, 1.0, 1.0, 1.0, 1.0, 1.0, 1.0, 1.0, 1.0, 1.0, 1.0, 1.0, 1.0, 1.0, 1.0, 1.0, 1.0]\n",
      "[0.6375214303208425, 0.7665931912809208, 0.8123928483957874, 0.8790105314719568, 0.8968895420034289, 0.9005633112907176, 0.9010531471956894, 0.908400685770267, 0.9066862601028656, 0.9059515062454078, 0.9012980651481753, 0.9027675728630908, 0.9022777369581191, 0.9020328190056331, 0.8986039676708303, 0.9017879010531472, 0.9030124908155768, 0.8990938035758022, 0.899338721528288, 0.9000734753857458, 0.8998285574332598, 0.896154788145971, 0.9015429831006613, 0.8998285574332598, 0.9000734753857458, 0.8986039676708303, 0.9022777369581191, 0.8995836394807739, 0.9008082292432035, 0.9000734753857458, 0.9003183933382317, 0.9000734753857458, 0.8990938035758022, 0.9010531471956894, 0.9012980651481753, 0.9010531471956894, 0.9008082292432035, 0.8988488856233162, 0.899338721528288, 0.9000734753857458, 0.8971344599559148, 0.8998285574332598, 0.9010531471956894, 0.8998285574332598, 0.9010531471956894, 0.9012980651481753, 0.9020328190056331, 0.8966446240509429]\n"
     ]
    }
   ],
   "source": [
    "\n",
    "print(accuracy_train)\n",
    "print(accuracy_test)"
   ]
  },
  {
   "cell_type": "code",
   "execution_count": null,
   "id": "e14d3f24-7b0a-4882-93b7-7bbaf8a2f7e7",
   "metadata": {},
   "outputs": [],
   "source": []
  }
 ],
 "metadata": {
  "kernelspec": {
   "display_name": "Python 3 (ipykernel)",
   "language": "python",
   "name": "python3"
  },
  "language_info": {
   "codemirror_mode": {
    "name": "ipython",
    "version": 3
   },
   "file_extension": ".py",
   "mimetype": "text/x-python",
   "name": "python",
   "nbconvert_exporter": "python",
   "pygments_lexer": "ipython3",
   "version": "3.8.11"
  }
 },
 "nbformat": 4,
 "nbformat_minor": 5
}
